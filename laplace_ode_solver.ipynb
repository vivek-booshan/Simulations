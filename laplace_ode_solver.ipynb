{
    "cells": [
        {
            "cell_type": "code",
            "execution_count": 2,
            "source": [
                "from sympy import init_session\r\n",
                "init_session()\r\n",
                "\r\n",
                "p = Symbol('p')\r\n",
                "\r\n",
                "def laplace_transform_derivatives(e):\r\n",
                "    \"\"\"\r\n",
                "    Evaluate the unevaluted laplace transforms of derivatives\r\n",
                "    of functions\r\n",
                "    \"\"\"\r\n",
                "    if isinstance(e, LaplaceTransform):\r\n",
                "        if isinstance(e.args[0], Derivative):\r\n",
                "            d, t, s = e.args\r\n",
                "            n = d.args[1][1]\r\n",
                "            #n = len(d.args) - 1\r\n",
                "            return ((s**n) * LaplaceTransform(d.args[0], t, s) -\r\n",
                "                     sum([s**(n-i) * diff(d.args[0], t, i-1).subs(t, 0) for i in range(1, n+1)]))\r\n",
                "    if isinstance(e, (Add, Mul)):\r\n",
                "        t = type(e)\r\n",
                "        return t(*[laplace_transform_derivatives(arg) for arg in e.args])\r\n",
                "    return e"
            ],
            "outputs": [
                {
                    "output_type": "stream",
                    "name": "stdout",
                    "text": [
                        "IPython console for SymPy 1.8 (Python 3.8.11-64-bit) (ground types: gmpy)\n",
                        "\n",
                        "These commands were executed:\n",
                        ">>> from __future__ import division\n",
                        ">>> from sympy import *\n",
                        ">>> x, y, z, t = symbols('x y z t')\n",
                        ">>> k, m, n = symbols('k m n', integer=True)\n",
                        ">>> f, g, h = symbols('f g h', cls=Function)\n",
                        ">>> init_printing()\n",
                        "\n",
                        "Documentation can be found at https://docs.sympy.org/1.8/\n",
                        "\n"
                    ]
                }
            ],
            "metadata": {}
        },
        {
            "cell_type": "markdown",
            "source": [
                "## **Solving an ODE w/ Laplace Transform Using SymPy**\r\n",
                "\r\n",
                "The following shows an example of solving a second order ode with SymPy.\r\n",
                "\r\n",
                "### **We first start by defining the ODE of interest. (If you're comfortable with SymPy then scroll to the bottom to directly plug and chug)**\r\n",
                "### **add ```g(t).diff(t, n)``` for nth derivatives**"
            ],
            "metadata": {}
        },
        {
            "cell_type": "code",
            "execution_count": 3,
            "source": [
                "ode =  2*g(t).diff(t, 2) + 2*g(t).diff(t) - 4*g(t)\r\n",
                "ode"
            ],
            "outputs": [
                {
                    "output_type": "stream",
                    "name": "stderr",
                    "text": [
                        "C:\\Users\\Vivek\\anaconda3\\envs\\bioenv\\lib\\site-packages\\IPython\\lib\\latextools.py:126: MatplotlibDeprecationWarning: \n",
                        "The to_png function was deprecated in Matplotlib 3.4 and will be removed two minor releases later. Use mathtext.math_to_image instead.\n",
                        "  mt.to_png(f, s, fontsize=12, dpi=dpi, color=color)\n",
                        "C:\\Users\\Vivek\\anaconda3\\envs\\bioenv\\lib\\site-packages\\IPython\\lib\\latextools.py:126: MatplotlibDeprecationWarning: \n",
                        "The to_rgba function was deprecated in Matplotlib 3.4 and will be removed two minor releases later. Use mathtext.math_to_image instead.\n",
                        "  mt.to_png(f, s, fontsize=12, dpi=dpi, color=color)\n",
                        "C:\\Users\\Vivek\\anaconda3\\envs\\bioenv\\lib\\site-packages\\IPython\\lib\\latextools.py:126: MatplotlibDeprecationWarning: \n",
                        "The to_mask function was deprecated in Matplotlib 3.4 and will be removed two minor releases later. Use mathtext.math_to_image instead.\n",
                        "  mt.to_png(f, s, fontsize=12, dpi=dpi, color=color)\n",
                        "C:\\Users\\Vivek\\anaconda3\\envs\\bioenv\\lib\\site-packages\\IPython\\lib\\latextools.py:126: MatplotlibDeprecationWarning: \n",
                        "The MathtextBackendBitmap class was deprecated in Matplotlib 3.4 and will be removed two minor releases later. Use mathtext.math_to_image instead.\n",
                        "  mt.to_png(f, s, fontsize=12, dpi=dpi, color=color)\n"
                    ]
                },
                {
                    "output_type": "execute_result",
                    "data": {
                        "text/plain": [
                            "                           2      \n",
                            "            d             d       \n",
                            "-4⋅g(t) + 2⋅──(g(t)) + 2⋅───(g(t))\n",
                            "            dt             2      \n",
                            "                         dt       "
                        ],
                        "image/png": "[encoded data removed]",
                        "text/latex": [
                            "$\\displaystyle - 4 g{\\left(t \\right)} + 2 \\frac{d}{d t} g{\\left(t \\right)} + 2 \\frac{d^{2}}{d t^{2}} g{\\left(t \\right)}$"
                        ]
                    },
                    "metadata": {},
                    "execution_count": 3
                }
            ],
            "metadata": {}
        },
        {
            "cell_type": "markdown",
            "source": [
                "### **Directly take the laplace transform of the ode. Here I use p to represent the new domain, but any variable suffices.**"
            ],
            "metadata": {}
        },
        {
            "cell_type": "code",
            "execution_count": 4,
            "source": [
                "l_ode = laplace_transform(ode, t, p)\r\n",
                "l_ode"
            ],
            "outputs": [
                {
                    "output_type": "execute_result",
                    "data": {
                        "text/plain": [
                            "                                                                              \n",
                            "                                                    ⎛d             ⎞          \n",
                            "-4⋅LaplaceTransform(g(t), t, p) + 2⋅LaplaceTransform⎜──(g(t)), t, p⎟ + 2⋅Lapla\n",
                            "                                                    ⎝dt            ⎠          \n",
                            "                                                                              \n",
                            "\n",
                            "           ⎛  2            ⎞\n",
                            "           ⎜ d             ⎟\n",
                            "ceTransform⎜───(g(t)), t, p⎟\n",
                            "           ⎜  2            ⎟\n",
                            "           ⎝dt             ⎠"
                        ],
                        "image/png": "[encoded data removed]",
                        "text/latex": [
                            "$\\displaystyle - 4 \\mathcal{L}_{t}\\left[g{\\left(t \\right)}\\right]\\left(p\\right) + 2 \\mathcal{L}_{t}\\left[\\frac{d}{d t} g{\\left(t \\right)}\\right]\\left(p\\right) + 2 \\mathcal{L}_{t}\\left[\\frac{d^{2}}{d t^{2}} g{\\left(t \\right)}\\right]\\left(p\\right)$"
                        ]
                    },
                    "metadata": {},
                    "execution_count": 4
                }
            ],
            "metadata": {}
        },
        {
            "cell_type": "markdown",
            "source": [
                "### **For aesthetics and readability I substitute all the weird L terms with the capital of the function**"
            ],
            "metadata": {}
        },
        {
            "cell_type": "code",
            "execution_count": 5,
            "source": [
                "L_g = laplace_transform(g(t), t, p) \r\n",
                "G = Symbol(\"G\")"
            ],
            "outputs": [],
            "metadata": {}
        },
        {
            "cell_type": "markdown",
            "source": [
                "### **Proceed to take the derivative and implement the term substitution**"
            ],
            "metadata": {}
        },
        {
            "cell_type": "code",
            "execution_count": 6,
            "source": [
                "l_ode2 = laplace_transform_derivatives(l_ode).subs(L_g, G)\r\n",
                "l_ode2"
            ],
            "outputs": [
                {
                    "output_type": "execute_result",
                    "data": {
                        "text/plain": [
                            "     2                                       ⎛d       ⎞│   \n",
                            "2⋅G⋅p  + 2⋅G⋅p - 4⋅G - 2⋅p⋅g(0) - 2⋅g(0) - 2⋅⎜──(g(t))⎟│   \n",
                            "                                             ⎝dt      ⎠│t=0"
                        ],
                        "text/latex": [
                            "$\\displaystyle 2 G p^{2} + 2 G p - 4 G - 2 p g{\\left(0 \\right)} - 2 g{\\left(0 \\right)} - 2 \\left. \\frac{d}{d t} g{\\left(t \\right)} \\right|_{\\substack{ t=0 }}$"
                        ]
                    },
                    "metadata": {},
                    "execution_count": 6
                }
            ],
            "metadata": {}
        },
        {
            "cell_type": "markdown",
            "source": [
                "### **Solve for the initial conditions**\r\n",
                "### **for higher order odes with more ics: separate by commas and add ```{... , g(t).diff(t, n).subs(t, 0): c, ...}``` for nth derivative initial condition equal to some constant c**"
            ],
            "metadata": {}
        },
        {
            "cell_type": "code",
            "execution_count": 10,
            "source": [
                "ics = {g(0): 2, g(t).diff(t).subs(t, 0): -1}\r\n",
                "l_ode3 = l_ode2.subs(ics)\r\n",
                "Gsoln = solve(l_ode3, G)\r\n",
                "Gsoln[0].apart(p)"
            ],
            "outputs": [
                {
                    "output_type": "stream",
                    "name": "stderr",
                    "text": [
                        "C:\\Users\\Vivek\\anaconda3\\envs\\bioenv\\lib\\site-packages\\IPython\\lib\\latextools.py:126: MatplotlibDeprecationWarning: \n",
                        "The to_png function was deprecated in Matplotlib 3.4 and will be removed two minor releases later. Use mathtext.math_to_image instead.\n",
                        "  mt.to_png(f, s, fontsize=12, dpi=dpi, color=color)\n",
                        "C:\\Users\\Vivek\\anaconda3\\envs\\bioenv\\lib\\site-packages\\IPython\\lib\\latextools.py:126: MatplotlibDeprecationWarning: \n",
                        "The to_rgba function was deprecated in Matplotlib 3.4 and will be removed two minor releases later. Use mathtext.math_to_image instead.\n",
                        "  mt.to_png(f, s, fontsize=12, dpi=dpi, color=color)\n",
                        "C:\\Users\\Vivek\\anaconda3\\envs\\bioenv\\lib\\site-packages\\IPython\\lib\\latextools.py:126: MatplotlibDeprecationWarning: \n",
                        "The to_mask function was deprecated in Matplotlib 3.4 and will be removed two minor releases later. Use mathtext.math_to_image instead.\n",
                        "  mt.to_png(f, s, fontsize=12, dpi=dpi, color=color)\n",
                        "C:\\Users\\Vivek\\anaconda3\\envs\\bioenv\\lib\\site-packages\\IPython\\lib\\latextools.py:126: MatplotlibDeprecationWarning: \n",
                        "The MathtextBackendBitmap class was deprecated in Matplotlib 3.4 and will be removed two minor releases later. Use mathtext.math_to_image instead.\n",
                        "  mt.to_png(f, s, fontsize=12, dpi=dpi, color=color)\n"
                    ]
                },
                {
                    "output_type": "execute_result",
                    "data": {
                        "text/plain": [
                            "  1       1  \n",
                            "───── + ─────\n",
                            "p + 2   p - 1"
                        ],
                        "image/png": "[encoded data removed]",
                        "text/latex": [
                            "$\\displaystyle \\frac{1}{p + 2} + \\frac{1}{p - 1}$"
                        ]
                    },
                    "metadata": {},
                    "execution_count": 10
                }
            ],
            "metadata": {}
        },
        {
            "cell_type": "code",
            "execution_count": 9,
            "source": [
                "inverse_laplace_transform(Gsoln[0].apart(p), p, t)"
            ],
            "outputs": [
                {
                    "output_type": "execute_result",
                    "data": {
                        "text/plain": [
                            "⎛ 3⋅t    ⎞  -2⋅t     \n",
                            "⎝ℯ    + 1⎠⋅ℯ    ⋅θ(t)"
                        ],
                        "image/png": "[encoded data removed]",
                        "text/latex": [
                            "$\\displaystyle \\left(e^{3 t} + 1\\right) e^{- 2 t} \\theta\\left(t\\right)$"
                        ]
                    },
                    "metadata": {},
                    "execution_count": 9
                }
            ],
            "metadata": {}
        },
        {
            "cell_type": "markdown",
            "source": [
                "## **General Laplace ODE Solver**\r\n",
                "\r\n",
                "### **Note that $\\theta (t)$ merely represents the Heaviside step function and can be disregarded in the final answer**"
            ],
            "metadata": {}
        },
        {
            "cell_type": "code",
            "execution_count": 11,
            "source": [
                "## mess with just these first two lines if you don't know python \r\n",
                "## (see above to learn how to change these lines properly for different odes)\r\n",
                "ode = 2*g(t).diff(t, 2) + 2*g(t).diff(t) - 4*g(t) # subtract rhs if there is one\r\n",
                "ics = {g(0): 2, g(t).diff(t).subs(t, 0): -1}\r\n",
                "\r\n",
                "L_g = laplace_transform(g(t), t, p)\r\n",
                "G = Symbol('G')\r\n",
                "\r\n",
                "l_ode = laplace_transform(ode, t, p)\r\n",
                "l_ode = laplace_transform_derivatives(l_ode).subs(L_g, G).subs(ics)\r\n",
                "soln = solve(l_ode, G)[0]\r\n",
                "inverse_laplace_transform(soln.apart(p), p, t)"
            ],
            "outputs": [
                {
                    "output_type": "execute_result",
                    "data": {
                        "text/plain": [
                            "⎛ 3⋅t    ⎞  -2⋅t     \n",
                            "⎝ℯ    + 1⎠⋅ℯ    ⋅θ(t)"
                        ],
                        "image/png": "[encoded data removed]",
                        "text/latex": [
                            "$\\displaystyle \\left(e^{3 t} + 1\\right) e^{- 2 t} \\theta\\left(t\\right)$"
                        ]
                    },
                    "metadata": {},
                    "execution_count": 11
                }
            ],
            "metadata": {}
        },
        {
            "cell_type": "code",
            "execution_count": null,
            "source": [
                "%load_ext watermark\r\n",
                "%watermark -v -p sympy"
            ],
            "outputs": [
                {
                    "output_type": "stream",
                    "name": "stdout",
                    "text": [
                        "The watermark extension is already loaded. To reload it, use:\n",
                        "  %reload_ext watermark\n",
                        "Python implementation: CPython\n",
                        "Python version       : 3.8.11\n",
                        "IPython version      : 7.27.0\n",
                        "\n",
                        "sympy: 1.8\n",
                        "\n"
                    ]
                }
            ],
            "metadata": {}
        }
    ],
    "metadata": {
        "orig_nbformat": 4,
        "language_info": {
            "name": "python",
            "version": "3.8.11",
            "mimetype": "text/x-python",
            "codemirror_mode": {
                "name": "ipython",
                "version": 3
            },
            "pygments_lexer": "ipython3",
            "nbconvert_exporter": "python",
            "file_extension": ".py"
        },
        "kernelspec": {
            "name": "python3",
            "display_name": "Python 3.8.11 64-bit ('bioenv': conda)"
        },
        "interpreter": {
            "hash": "368c08f704fd752b7a8404c46731b2194d10ba455e91c505469b38bf31f765bc"
        }
    },
    "nbformat": 4,
    "nbformat_minor": 2
}